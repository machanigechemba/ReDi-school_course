{
 "cells": [
  {
   "cell_type": "markdown",
   "id": "0ab723bf",
   "metadata": {},
   "source": [
    "**Profitable Apps Data Analysis Project**\n",
    "\n",
    "The goal of this project is to analyze data for apps available on Google Play and App Store to help our developers understand what type of apps are likely to attract more users.\n",
    "\n",
    "To do this, we'll need to collect and analyze data about mobile apps available on Google Play and the App Store.\n",
    "This is a guided project."
   ]
  },
  {
   "cell_type": "code",
   "execution_count": 1,
   "id": "6005e536",
   "metadata": {},
   "outputs": [],
   "source": [
    "#open applestore data\n",
    "apple = open('AppleStore.csv', encoding='utf8')\n",
    "from csv import reader\n",
    "read_file = reader(apple)\n",
    "ios_data = list(read_file)\n",
    "ios_header = ios_data[0]\n",
    "ios = ios_data[1:]\n",
    "\n",
    "#open google play data\n",
    "android = open('googleplaystore.csv', encoding='utf8')\n",
    "from csv import reader\n",
    "read_file = reader(android)\n",
    "android_data = list(read_file)\n",
    "android_header = android_data[0]\n",
    "android = android_data[1:]\n",
    "    "
   ]
  },
  {
   "cell_type": "markdown",
   "id": "07721375",
   "metadata": {},
   "source": [
    "The `explore_data()` function does the following:\n",
    "\n",
    "Takes in four parameters:\n",
    "`dataset`, which will be a list of lists.\n",
    "`start` and `end`, which will both be integers and represent the starting and the ending indices of a slice from the `dataset`.\n",
    "`rows_and_columns`, which is expected to be a Boolean and has `False` as a default argument.\n",
    "Slices the `dataset` using `dataset[start:end]`.\n",
    "Loops through the slice, and for each iteration, prints a `row` and adds a new line after that row using `print('\\n')`.\n",
    "The `\\n` in `print('\\n')` is a special character that won't print. Instead, the `\\n` character adds a new line, and we use `print('\\n')` to add some blank space between rows.\n",
    "Prints the number of rows and columns if `rows_and_columns` is `True`.\n",
    "`dataset` shouldn't have a header row, or the function will print the wrong number of rows (one more row compared to the actual length)."
   ]
  },
  {
   "cell_type": "code",
   "execution_count": 2,
   "id": "4bc5d865",
   "metadata": {},
   "outputs": [],
   "source": [
    "def explore_data(dataset, start, end, rows_and_columns=False):\n",
    "    dataset_slice = dataset[start:end]    \n",
    "    for row in dataset_slice:\n",
    "        print(row)\n",
    "        print('\\n') # adds a new (empty) line after each row\n",
    "\n",
    "    if rows_and_columns:\n",
    "        print('Number of rows:', len(dataset))\n",
    "        print('Number of columns:', len(dataset[0]))"
   ]
  },
  {
   "cell_type": "markdown",
   "id": "0aa521d7",
   "metadata": {},
   "source": [
    "Explore both datasets using the `explore_data()` function and print the first few rows. Find the number of rows and columns for each data by providing `True` argument to the `rows_and_columns`"
   ]
  },
  {
   "cell_type": "code",
   "execution_count": 3,
   "id": "2ee7bf19",
   "metadata": {},
   "outputs": [
    {
     "name": "stdout",
     "output_type": "stream",
     "text": [
      "['id', 'track_name', 'size_bytes', 'currency', 'price', 'rating_count_tot', 'rating_count_ver', 'user_rating', 'user_rating_ver', 'ver', 'cont_rating', 'prime_genre', 'sup_devices.num', 'ipadSc_urls.num', 'lang.num', 'vpp_lic']\n",
      "\n",
      "\n",
      "['284882215', 'Facebook', '389879808', 'USD', '0.0', '2974676', '212', '3.5', '3.5', '95.0', '4+', 'Social Networking', '37', '1', '29', '1']\n",
      "\n",
      "\n",
      "['389801252', 'Instagram', '113954816', 'USD', '0.0', '2161558', '1289', '4.5', '4.0', '10.23', '12+', 'Photo & Video', '37', '0', '29', '1']\n",
      "\n",
      "\n",
      "['529479190', 'Clash of Clans', '116476928', 'USD', '0.0', '2130805', '579', '4.5', '4.5', '9.24.12', '9+', 'Games', '38', '5', '18', '1']\n",
      "\n",
      "\n",
      "['420009108', 'Temple Run', '65921024', 'USD', '0.0', '1724546', '3842', '4.5', '4.0', '1.6.2', '9+', 'Games', '40', '5', '1', '1']\n",
      "\n",
      "\n",
      "['284035177', 'Pandora - Music & Radio', '130242560', 'USD', '0.0', '1126879', '3594', '4.0', '4.5', '8.4.1', '12+', 'Music', '37', '4', '1', '1']\n",
      "\n",
      "\n",
      "Number of rows: 7197\n",
      "Number of columns: 16\n",
      "['App', 'Category', 'Rating', 'Reviews', 'Size', 'Installs', 'Type', 'Price', 'Content Rating', 'Genres', 'Last Updated', 'Current Ver', 'Android Ver']\n",
      "\n",
      "\n",
      "['Coloring book moana', 'ART_AND_DESIGN', '3.9', '967', '14M', '500,000+', 'Free', '0', 'Everyone', 'Art & Design;Pretend Play', 'January 15, 2018', '2.0.0', '4.0.3 and up']\n",
      "\n",
      "\n",
      "['U Launcher Lite – FREE Live Cool Themes, Hide Apps', 'ART_AND_DESIGN', '4.7', '87510', '8.7M', '5,000,000+', 'Free', '0', 'Everyone', 'Art & Design', 'August 1, 2018', '1.2.4', '4.0.3 and up']\n",
      "\n",
      "\n",
      "['Sketch - Draw & Paint', 'ART_AND_DESIGN', '4.5', '215644', '25M', '50,000,000+', 'Free', '0', 'Teen', 'Art & Design', 'June 8, 2018', 'Varies with device', '4.2 and up']\n",
      "\n",
      "\n",
      "Number of rows: 10841\n",
      "Number of columns: 13\n"
     ]
    }
   ],
   "source": [
    "#explore data \n",
    "print(ios_header)\n",
    "print('\\n')\n",
    "explore_data(ios, 0, 5, True)\n",
    "\n",
    "print(android_header)\n",
    "print('\\n')\n",
    "explore_data(android, 1, 4, True)"
   ]
  },
  {
   "cell_type": "markdown",
   "id": "7c66cddd",
   "metadata": {},
   "source": [
    "**Data cleaning**"
   ]
  },
  {
   "cell_type": "code",
   "execution_count": 4,
   "id": "d030be69",
   "metadata": {},
   "outputs": [
    {
     "name": "stdout",
     "output_type": "stream",
     "text": [
      "['App', 'Category', 'Rating', 'Reviews', 'Size', 'Installs', 'Type', 'Price', 'Content Rating', 'Genres', 'Last Updated', 'Current Ver', 'Android Ver']\n",
      "\n",
      "\n",
      "['Life Made WI-Fi Touchscreen Photo Frame', '1.9', '19', '3.0M', '1,000+', 'Free', '0', 'Everyone', '', 'February 11, 2018', '1.0.19', '4.0 and up']\n"
     ]
    }
   ],
   "source": [
    "print(android_header) #print header row \n",
    "print('\\n')\n",
    "print(android[10472]) #the row with error\n",
    "\n",
    "#10472 row has an error. category Column data is missing  \n",
    "del android[10472] # delete the row with error"
   ]
  },
  {
   "cell_type": "code",
   "execution_count": 5,
   "id": "dcbd34bc",
   "metadata": {},
   "outputs": [
    {
     "name": "stdout",
     "output_type": "stream",
     "text": [
      "['Command & Conquer: Rivals', 'FAMILY', 'NaN', '0', 'Varies with device', '0', 'NaN', '0', 'Everyone 10+', 'Strategy', 'June 28, 2018', 'Varies with device', 'Varies with device']\n",
      "\n",
      "\n",
      "['Plants vs. Zombies™ 2', 'FAMILY', '4.4', '567632', '15M', '10,000,000+', 'Free', '0', 'Everyone 10+', 'Casual', 'June 12, 2018', '6.8.1', '4.1 and up']\n"
     ]
    }
   ],
   "source": [
    "print(android[9148])\n",
    "print('\\n')\n",
    "print(android[9147])"
   ]
  },
  {
   "cell_type": "markdown",
   "id": "482450c6",
   "metadata": {},
   "source": [
    "Some apps have duplicate entries. next is to remove the duplicate entries and keep only one entry per app. we use a combination of for loop and conditional statement"
   ]
  },
  {
   "cell_type": "code",
   "execution_count": 6,
   "id": "5b1ae34d",
   "metadata": {},
   "outputs": [
    {
     "name": "stdout",
     "output_type": "stream",
     "text": [
      "Number of duplicate apps:  1181\n",
      "\n",
      "\n",
      "Examples of duplicates apps: ['Quick PDF Scanner + OCR FREE', 'Box', 'Google My Business', 'ZOOM Cloud Meetings', 'join.me - Simple Meetings', 'Box', 'Zenefits', 'Google Ads', 'Google My Business', 'Slack', 'FreshBooks Classic', 'Insightly CRM', 'QuickBooks Accounting: Invoicing & Expenses', 'HipChat - Chat Built for Teams', 'Xero Accounting Software']\n"
     ]
    }
   ],
   "source": [
    "app_name = []\n",
    "duplicate_names = []\n",
    "for app in android:\n",
    "    name = app[0]\n",
    "    if name in app_name:\n",
    "        duplicate_names.append(name)\n",
    "        \n",
    "    else:\n",
    "        app_name.append(name)\n",
    "\n",
    "#to find the number of duplicate apps\n",
    "print('Number of duplicate apps: ', len(duplicate_names))\n",
    "print('\\n')\n",
    "\n",
    "#examine afew duplicate apps\n",
    "print('Examples of duplicates apps:', duplicate_names[:15])"
   ]
  },
  {
   "cell_type": "markdown",
   "id": "b168857c",
   "metadata": {},
   "source": [
    "examine some of the duplicates to see how the data look like across the duplicates"
   ]
  },
  {
   "cell_type": "code",
   "execution_count": 7,
   "id": "c70903e0",
   "metadata": {},
   "outputs": [
    {
     "name": "stdout",
     "output_type": "stream",
     "text": [
      "['Facebook', 'SOCIAL', '4.1', '78158306', 'Varies with device', '1,000,000,000+', 'Free', '0', 'Teen', 'Social', 'August 3, 2018', 'Varies with device', 'Varies with device']\n",
      "['Instagram', 'SOCIAL', '4.5', '66577313', 'Varies with device', '1,000,000,000+', 'Free', '0', 'Teen', 'Social', 'July 31, 2018', 'Varies with device', 'Varies with device']\n",
      "['Instagram', 'SOCIAL', '4.5', '66577446', 'Varies with device', '1,000,000,000+', 'Free', '0', 'Teen', 'Social', 'July 31, 2018', 'Varies with device', 'Varies with device']\n",
      "['Instagram', 'SOCIAL', '4.5', '66577313', 'Varies with device', '1,000,000,000+', 'Free', '0', 'Teen', 'Social', 'July 31, 2018', 'Varies with device', 'Varies with device']\n",
      "['Instagram', 'SOCIAL', '4.5', '66509917', 'Varies with device', '1,000,000,000+', 'Free', '0', 'Teen', 'Social', 'July 31, 2018', 'Varies with device', 'Varies with device']\n",
      "['Facebook', 'SOCIAL', '4.1', '78128208', 'Varies with device', '1,000,000,000+', 'Free', '0', 'Teen', 'Social', 'August 3, 2018', 'Varies with device', 'Varies with device']\n"
     ]
    }
   ],
   "source": [
    "for app in android:\n",
    "    name = app[0]\n",
    "    if name == 'Facebook' or name == 'Instagram':\n",
    "        print(app)"
   ]
  },
  {
   "cell_type": "markdown",
   "id": "f8ced5ef",
   "metadata": {},
   "source": [
    "Because some duplicated apps have different number of reviews, keep the highest review and remove the other entries. The higher the number of reviews, the more recent the data should be. \n",
    "\n",
    "To do this, we created an empty dictionary, looped thro' the android data excluding the header, assigned app name to `name2` and reviews as a float to `n_reviews`. `if name2 in reviews_max and reviews_max[name2] < n_reviews`, uptade the number of reviews for that entry in the` reviews_max` dictionary. `If name2` is `not in` the `reviews_max` dictionary as a key, create a new entry in the dictionary where the key is the app name, and the value is the number of reviews"
   ]
  },
  {
   "cell_type": "code",
   "execution_count": 8,
   "id": "69d6b813",
   "metadata": {},
   "outputs": [
    {
     "name": "stdout",
     "output_type": "stream",
     "text": [
      "9659\n",
      "9659\n"
     ]
    }
   ],
   "source": [
    "reviews_max = {}\n",
    "for app in android:\n",
    "    name = app[0]\n",
    "    n_reviews = float(app[3])\n",
    "    if name in reviews_max and reviews_max[name] < n_reviews:\n",
    "        reviews_max[name] = n_reviews\n",
    "    elif name not in reviews_max:\n",
    "        reviews_max[name] = n_reviews\n",
    "        \n",
    "print(len(reviews_max))\n",
    "print(len(android) - 1181) #minus duplicate apps"
   ]
  },
  {
   "cell_type": "code",
   "execution_count": 9,
   "id": "a7dbf93d",
   "metadata": {},
   "outputs": [
    {
     "name": "stdout",
     "output_type": "stream",
     "text": [
      "['Photo Editor & Candy Camera & Grid & ScrapBook', 'ART_AND_DESIGN', '4.1', '159', '19M', '10,000+', 'Free', '0', 'Everyone', 'Art & Design', 'January 7, 2018', '1.0.0', '4.0.3 and up']\n",
      "\n",
      "\n",
      "['U Launcher Lite – FREE Live Cool Themes, Hide Apps', 'ART_AND_DESIGN', '4.7', '87510', '8.7M', '5,000,000+', 'Free', '0', 'Everyone', 'Art & Design', 'August 1, 2018', '1.2.4', '4.0.3 and up']\n",
      "\n",
      "\n",
      "['Sketch - Draw & Paint', 'ART_AND_DESIGN', '4.5', '215644', '25M', '50,000,000+', 'Free', '0', 'Teen', 'Art & Design', 'June 8, 2018', 'Varies with device', '4.2 and up']\n",
      "\n",
      "\n",
      "['Pixel Draw - Number Art Coloring Book', 'ART_AND_DESIGN', '4.3', '967', '2.8M', '100,000+', 'Free', '0', 'Everyone', 'Art & Design;Creativity', 'June 20, 2018', '1.1', '4.4 and up']\n",
      "\n",
      "\n",
      "Number of rows: 9659\n",
      "Number of columns: 13\n"
     ]
    }
   ],
   "source": [
    "#Use the dictionary created above to remove the duplicate rows\n",
    "android_clean = []\n",
    "already_added = []\n",
    "for app in android:\n",
    "    name = app[0]\n",
    "    n_reviews = float(app[3])\n",
    "    if (n_reviews == reviews_max[name]) and (name not in already_added):\n",
    "        android_clean.append(app)\n",
    "        already_added.append(name)\n",
    "#Explore the android_clean dataset\n",
    "explore_data(android_clean, 0, 4, True)"
   ]
  },
  {
   "cell_type": "markdown",
   "id": "a9745cbb",
   "metadata": {},
   "source": [
    "To analyze only the apps that are designed for an English-speaking audience, remove the rows corresponding to the non-English apps. One way to do this is to remove each app with a name containing a symbol that isn't commonly used in English text — English text usually includes letters from the English alphabet, numbers composed of digits from 0 to 9, punctuation marks (., !, ?, ;), and other symbols (+, *, /).\n",
    "\n",
    "Each character we use in a string has a corresponding number associated with it.The numbers corresponding to the characters we commonly use in an English text are all in the range 0 to 127, according to the ASCII system.\n",
    "\n",
    "We can get the corresponding number of each character using the `ord()`"
   ]
  },
  {
   "cell_type": "code",
   "execution_count": 10,
   "id": "7bc40e0e",
   "metadata": {},
   "outputs": [],
   "source": [
    "#the function takes a string, checks if character doesn't belong to english \n",
    "def remove_notenglish(a_string): \n",
    "    for character in a_string:\n",
    "        if ord(character) > 127:\n",
    "            return False\n",
    "        \n",
    "    return True"
   ]
  },
  {
   "cell_type": "code",
   "execution_count": 11,
   "id": "2f869118",
   "metadata": {},
   "outputs": [
    {
     "name": "stdout",
     "output_type": "stream",
     "text": [
      "True\n",
      "False\n"
     ]
    }
   ],
   "source": [
    "#check if the function works\n",
    "print(remove_notenglish('Instagram'))\n",
    "print(remove_notenglish('爱奇艺PPS -《欢乐颂2》电视剧热播'))"
   ]
  },
  {
   "cell_type": "markdown",
   "id": "effa9192",
   "metadata": {},
   "source": [
    "Emojis and characters like ™ fall outside the ASCII range. To minimize the impact of data loss, only remove an app if its name has more than three characters with corresponding numbers falling outside the ASCII range.This means all English apps with up to three emoji or other special characters will still be labeled as English"
   ]
  },
  {
   "cell_type": "code",
   "execution_count": 12,
   "id": "8ee3f0a0",
   "metadata": {},
   "outputs": [],
   "source": [
    "#the function takes a string, checks if character doesn't belong to english \n",
    "# function filters if the input string has more than three characters that \n",
    "#fall outside the ASCII range (0 - 127)\n",
    "\n",
    "def remove_notenglish(a_string):\n",
    "    non_ascii = 0  \n",
    "    \n",
    "    for character in a_string:\n",
    "        if ord(character) > 127:\n",
    "            non_ascii += 1\n",
    "            \n",
    "    if non_ascii > 3:\n",
    "        return False\n",
    "    else:\n",
    "        return True"
   ]
  },
  {
   "cell_type": "code",
   "execution_count": 13,
   "id": "f61eaef1",
   "metadata": {},
   "outputs": [
    {
     "name": "stdout",
     "output_type": "stream",
     "text": [
      "True\n",
      "False\n",
      "True\n",
      "True\n"
     ]
    }
   ],
   "source": [
    "#check if the function works\n",
    "print(remove_notenglish('Instagram'))\n",
    "print(remove_notenglish('爱奇艺PPS -《欢乐颂2》电视剧热播'))\n",
    "print(remove_notenglish('Docs To Go™ Free Office Suite'))\n",
    "print(remove_notenglish('Instachat 😜'))"
   ]
  },
  {
   "cell_type": "markdown",
   "id": "1b5161e0",
   "metadata": {},
   "source": [
    "Use the new function to filter out non-English apps from both datasets. Loop through each dataset. If an app name is identified as English, append the whole row to a separate list."
   ]
  },
  {
   "cell_type": "code",
   "execution_count": null,
   "id": "3b66861c",
   "metadata": {},
   "outputs": [],
   "source": [
    "#for android\n",
    "android_english = []\n",
    "for app in android_clean:\n",
    "    name = app[0]\n",
    "    if remove_notenglish(name):\n",
    "        android_english.append(app)\n",
    "        \n",
    "#for ios\n",
    "ios_english = []\n",
    "for app in ios:\n",
    "    name = app[1]\n",
    "    if remove_notenglish(name):\n",
    "        ios.append(app)"
   ]
  },
  {
   "cell_type": "code",
   "execution_count": null,
   "id": "9010d8ea",
   "metadata": {},
   "outputs": [],
   "source": [
    "explore_data(ios_english, 0, 5, True)\n",
    "print('\\n')\n",
    "explore_data(android_english, 0, 5, True)"
   ]
  },
  {
   "cell_type": "code",
   "execution_count": null,
   "id": "668830db",
   "metadata": {},
   "outputs": [],
   "source": [
    "#Isolating the free apps\n",
    "free_android = []\n",
    "for app in android_english:\n",
    "    price = app[7]\n",
    "    if price == '0':\n",
    "        free_android.append(app)\n",
    "        \n",
    "#for ios\n",
    "free_ios = []\n",
    "for app in ios_english:\n",
    "    price = app[4]\n",
    "    if price == '0.0':\n",
    "        free_ios.append(app)\n",
    "\n",
    "#check how many apps remaining        \n",
    "print(len(free_android))\n",
    "print(len(free_ios))   "
   ]
  },
  {
   "cell_type": "markdown",
   "id": "8c94112c",
   "metadata": {},
   "source": [
    "our aim is to determine the kinds of apps that are likely to attract more users because our revenue is highly influenced by the number of people using our apps."
   ]
  },
  {
   "cell_type": "code",
   "execution_count": null,
   "id": "d255d5c0",
   "metadata": {},
   "outputs": [],
   "source": [
    "print(ios_header)\n",
    "print('\\n')\n",
    "\n",
    "print(android_header)"
   ]
  },
  {
   "cell_type": "markdown",
   "id": "abdde145",
   "metadata": {},
   "source": [
    "**Find the most common apps by genre**\n",
    "\n",
    "Build a frequency table for the prime_genre column of the App Store data set, and for the Genres and Category columns of the Google Play data set.\n",
    "\n",
    "Define two functions we can use to analyze the frequency tables:\n",
    "One function to generate frequency tables that show percentages\n",
    "Another function we can use to display the percentages in a descending order.\n",
    "dictionaries don't have order, and it will be very difficult to analyze the frequency tables.use of the built-in `sorted()` function. This function takes in an iterable data type (like a list, dictionary, tuple, etc.), and returns a list of the elements of that iterable sorted in ascending or descending order (the reverse parameter controls whether the order is ascending or descending)."
   ]
  },
  {
   "cell_type": "code",
   "execution_count": null,
   "id": "24395aef",
   "metadata": {},
   "outputs": [],
   "source": [
    "#generate frequency tables to find out what are the most \n",
    "#common genres in each market.\n",
    "\n",
    "#def function to generate frequency tables\n",
    "def freq_table(dataset, index):\n",
    "    table = {}\n",
    "    total = 0\n",
    "    \n",
    "    for row in dataset:\n",
    "        total += 1\n",
    "        value = row[index]\n",
    "        \n",
    "        if value in table:\n",
    "            table[value] += 1\n",
    "        else:\n",
    "            table[value] = 1\n",
    "    \n",
    "    table_percentages = {}\n",
    "    for key in table:\n",
    "        percentage = (table[key] / total) * 100\n",
    "        table_percentages[key] = percentage  \n",
    "    \n",
    "    return table_percentages\n",
    "        \n",
    "\n",
    "#function to display frequency tables\n",
    "def display_table(dataset, index):\n",
    "    table = freq_table(dataset, index)\n",
    "    table_display = []\n",
    "    for key in table:\n",
    "        key_val_as_tuple = (table[key], key)\n",
    "        table_display.append(key_val_as_tuple)\n",
    "\n",
    "    table_sorted = sorted(table_display, reverse = True)\n",
    "    for entry in table_sorted:\n",
    "        print(entry[1], ':', entry[0])\n"
   ]
  },
  {
   "cell_type": "markdown",
   "id": "1e3e1585",
   "metadata": {},
   "source": [
    "`display_table()` function takes in two parameters: `dataset` and `index`. `dataset` will be a list of lists, and `index` will be an integer\n",
    "Generates a frequency table using the `freq_table()` function, transforms the frequency table into a list of tuples, then sorts the list in a descending order\n",
    "Prints the entries of the frequency table in descending order"
   ]
  },
  {
   "cell_type": "code",
   "execution_count": null,
   "id": "a7b41616",
   "metadata": {},
   "outputs": [],
   "source": [
    "#display the frequency table of the columns prime_genre for ios\n",
    "#Genres, and Category for android\n",
    "display_table(free_ios, -5) #prime_genre\n",
    "print('\\n')\n",
    "\n",
    "display_table(free_android, 1) #category\n",
    "print('\\n')\n",
    "display_table(free_android, -4) #genres"
   ]
  },
  {
   "cell_type": "markdown",
   "id": "d8f9c624",
   "metadata": {},
   "source": [
    "**Find the most popular apps by genre**\n",
    "\n",
    "To do this, determine the kind of apps with the most users (have the most users)..by calculate the average number of installs for each app genre. To calculate the average number of user ratings for each genre,use a `for` loop inside of another `for` loop (a nested loop)"
   ]
  },
  {
   "cell_type": "code",
   "execution_count": null,
   "id": "248dab8d",
   "metadata": {},
   "outputs": [],
   "source": [
    "genres_ios = freq_table(free_ios, -5)\n",
    "\n",
    "for genre in genres_ios:\n",
    "    total = 0\n",
    "    len_genre = 0\n",
    "    for app in free_ios:\n",
    "        genre_app = app[-5]\n",
    "        if genre_app == genre:\n",
    "            user_rating = float(app[5])\n",
    "            total += user_rating\n",
    "            len_genre += 1\n",
    "    avg_rating = total / len_genre\n",
    "    print(genre, ':', avg_ratings)"
   ]
  },
  {
   "cell_type": "markdown",
   "id": "c14e843b",
   "metadata": {},
   "source": [
    "for google play, we'll need to convert each install number from a string to a float. This means we need to remove the commas and the plus characters, or the conversion will fail and cause an error.\n",
    "\n",
    "To remove characters from strings, we can use the `str.replace(old, new)` method (just like `list.append()` or `list.copy()`, `str.replace()` is a special kind of function called method — we'll learn more about this early in the next course). `str.replace()` takes in two parameters, `old` and `new`, and replaces all occurrences of `old` within a string with `new`:"
   ]
  },
  {
   "cell_type": "code",
   "execution_count": null,
   "id": "51090023",
   "metadata": {},
   "outputs": [],
   "source": [
    "categories_android = freq_table(free_android, 1)\n",
    "\n",
    "for category in categories_android:\n",
    "    total = 0\n",
    "    len_category = 0\n",
    "    for app in free_android:\n",
    "        category_app = app[1]\n",
    "        if category_app == category:            \n",
    "            n_installs = app[5]\n",
    "            n_installs = n_installs.replace(',', '')\n",
    "            n_installs = n_installs.replace('+', '')\n",
    "            total += float(n_installs)\n",
    "            len_category += 1\n",
    "    avg_installs = total / len_category\n",
    "    print(category, ':', avg_installs)"
   ]
  },
  {
   "cell_type": "markdown",
   "id": "46f02705-806c-4352-84e0-862da0aa8087",
   "metadata": {},
   "source": [
    "Author Frida"
   ]
  },
  {
   "cell_type": "code",
   "execution_count": null,
   "id": "36ddd9aa-8fb1-4911-b063-f9c4f4ccacd1",
   "metadata": {},
   "outputs": [],
   "source": []
  }
 ],
 "metadata": {
  "kernelspec": {
   "display_name": "Python 3 (ipykernel)",
   "language": "python",
   "name": "python3"
  },
  "language_info": {
   "codemirror_mode": {
    "name": "ipython",
    "version": 3
   },
   "file_extension": ".py",
   "mimetype": "text/x-python",
   "name": "python",
   "nbconvert_exporter": "python",
   "pygments_lexer": "ipython3",
   "version": "3.11.5"
  }
 },
 "nbformat": 4,
 "nbformat_minor": 5
}
